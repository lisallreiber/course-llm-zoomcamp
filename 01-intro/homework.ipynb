{
 "cells": [
  {
   "cell_type": "code",
   "execution_count": 2,
   "id": "da14f5dc-d611-460e-984f-d34834ad470e",
   "metadata": {},
   "outputs": [],
   "source": [
    "from openai import OpenAI"
   ]
  },
  {
   "cell_type": "code",
   "execution_count": 3,
   "id": "b58ea2f2-e600-4684-932c-d1ce37dcdfb6",
   "metadata": {},
   "outputs": [],
   "source": [
    "client = OpenAI()"
   ]
  },
  {
   "cell_type": "code",
   "execution_count": 3,
   "id": "78322e04-6f26-4d57-a64c-cafd5ab5c12e",
   "metadata": {},
   "outputs": [],
   "source": [
    "response = client.chat.completions.create(\n",
    "    model='gpt-4o',\n",
    "    messages=[{\"role\": \"user\", \"content\": \"is it too late to join the course?\"}]\n",
    ")"
   ]
  },
  {
   "cell_type": "code",
   "execution_count": 4,
   "id": "66d33df8-d2f0-4c9f-9a88-d5612edc7d66",
   "metadata": {},
   "outputs": [
    {
     "data": {
      "text/plain": [
       "'It depends on the specific course and its enrollment policies. Here are a few steps you can take to find out:\\n\\n1. **Check the Course Schedule:** Look at the course start date and enrollment deadlines. This information is usually available on the course website or through the institution offering the course.\\n\\n2. **Contact the Instructor or Administrator:** Reach out to the course instructor or the academic department for information about late enrollment. They might make exceptions depending on your situation.\\n\\n3. **Look for Add/Drop Deadlines:** Many institutions allow adding or dropping courses within a specific period after the course starts, often referred to as the \"add/drop period.\"\\n\\n4. **Online Courses:** Some online courses offer rolling admission or self-paced learning, which might give you more flexibility in joining later.\\n\\n5. **Waitlist Option:** If a course is full, some institutions offer a waitlist. Sign up if this is an option and see if a spot opens up.\\n\\n6. **Review Course Requirements:** Ensure you have any prerequisites or required materials ready. If the course has already started, check if you will need to catch up on missed content.\\n\\nAct quickly once you have the information you need, as spots can fill up or deadlines can pass.'"
      ]
     },
     "execution_count": 4,
     "metadata": {},
     "output_type": "execute_result"
    }
   ],
   "source": [
    "response.choices[0].message.content"
   ]
  }
 ],
 "metadata": {
  "kernelspec": {
   "display_name": "Python 3 (ipykernel)",
   "language": "python",
   "name": "python3"
  },
  "language_info": {
   "codemirror_mode": {
    "name": "ipython",
    "version": 3
   },
   "file_extension": ".py",
   "mimetype": "text/x-python",
   "name": "python",
   "nbconvert_exporter": "python",
   "pygments_lexer": "ipython3",
   "version": "3.10.13"
  }
 },
 "nbformat": 4,
 "nbformat_minor": 5
}
