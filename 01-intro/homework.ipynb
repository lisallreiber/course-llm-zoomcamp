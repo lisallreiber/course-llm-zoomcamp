{
 "cells": [
  {
   "cell_type": "code",
   "execution_count": 2,
   "id": "da14f5dc-d611-460e-984f-d34834ad470e",
   "metadata": {},
   "outputs": [],
   "source": [
    "from openai import OpenAI"
   ]
  },
  {
   "cell_type": "code",
   "execution_count": 4,
   "id": "b58ea2f2-e600-4684-932c-d1ce37dcdfb6",
   "metadata": {},
   "outputs": [],
   "source": [
    "client = OpenAI()"
   ]
  },
  {
   "cell_type": "code",
   "execution_count": 8,
   "id": "78322e04-6f26-4d57-a64c-cafd5ab5c12e",
   "metadata": {},
   "outputs": [],
   "source": [
    "response = client.chat.completions.create(\n",
    "    model='gpt-4o',\n",
    "    messages=[{\"role\": \"user\", \"content\": \"is it too late to join the course?\"}]\n",
    ")"
   ]
  },
  {
   "cell_type": "code",
   "execution_count": 11,
   "id": "66d33df8-d2f0-4c9f-9a88-d5612edc7d66",
   "metadata": {},
   "outputs": [
    {
     "data": {
      "text/plain": [
       "\"Determining whether it's too late to join a course depends on various factors such as the specific course you're considering, its enrollment deadlines, and the policies of the institution offering it. Here are a few steps you might take to find out:\\n\\n1. **Check Enrollment Deadlines**: Visit the course website or the institution's admissions page to find key dates. These often include registration deadlines, add/drop periods, and any late enrollment options.\\n\\n2. **Contact the Institution**: Reach out to the admissions office, course coordinator, or instructor to inquire about the possibility of late enrollment and any associated penalties or requirements.\\n\\n3. **Review the Syllabus**: If available, review the course syllabus to understand how much material has already been covered. This will help you assess whether you can catch up.\\n\\n4. **Consider Online Alternatives**: Some online courses have rolling admissions or more flexible start dates, which could be an alternative if traditional courses have closed enrollment.\\n\\n5. **Special Circumstances**: Some institutions may allow late enrollment if you have a compelling reason, so be prepared to explain your situation.\\n\\nWould you like guidance on a specific type of course or institution?\""
      ]
     },
     "execution_count": 11,
     "metadata": {},
     "output_type": "execute_result"
    }
   ],
   "source": [
    "response.choices[0].message.content"
   ]
  }
 ],
 "metadata": {
  "kernelspec": {
   "display_name": "Python 3 (ipykernel)",
   "language": "python",
   "name": "python3"
  },
  "language_info": {
   "codemirror_mode": {
    "name": "ipython",
    "version": 3
   },
   "file_extension": ".py",
   "mimetype": "text/x-python",
   "name": "python",
   "nbconvert_exporter": "python",
   "pygments_lexer": "ipython3",
   "version": "3.10.13"
  }
 },
 "nbformat": 4,
 "nbformat_minor": 5
}
